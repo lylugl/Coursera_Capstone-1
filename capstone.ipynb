{
 "cells": [
  {
   "cell_type": "markdown",
   "metadata": {},
   "source": [
    "# IBM Applied Data Science Capstone Project"
   ]
  },
  {
   "cell_type": "markdown",
   "metadata": {},
   "source": [
    "## Table of Contents\n",
    "\n",
    "<div class=\"alert alert-block alert-info\" style=\"margin-top: 20px\">\n",
    "\n",
    "<font size = 3>\n",
    "\n",
    "1. <a href=\"#item1\">Assignment 1: Setup notebook</a>\n",
    "\n",
    "2. <a href=\"#item2\">Assignment 2: Scrape wiki and generate map with clusters</a> \n",
    "    \n",
    "3. <a href=\"#item3\">Assignment 3: Final assignment</a> \n",
    "    \n",
    "</font>\n",
    "</div>"
   ]
  },
  {
   "cell_type": "markdown",
   "metadata": {},
   "source": [
    "<a id='item1'></a>\n",
    "# Assignment 1\n",
    "Notebook setup and post to Github"
   ]
  },
  {
   "cell_type": "code",
   "execution_count": 1,
   "metadata": {},
   "outputs": [],
   "source": [
    "# Initial setup of libraries\n",
    "import pandas as pd\n",
    "import numpy as np"
   ]
  },
  {
   "cell_type": "code",
   "execution_count": 2,
   "metadata": {},
   "outputs": [
    {
     "name": "stdout",
     "output_type": "stream",
     "text": [
      "Hello Capstone Project Course!\n"
     ]
    }
   ],
   "source": [
    "print('Hello Capstone Project Course!')"
   ]
  },
  {
   "cell_type": "markdown",
   "metadata": {},
   "source": [
    "<a id='item2'></a>\n",
    "# Assignment 2\n",
    "In this assignment, you will be required to explore, segment, and cluster the neighborhoods in the city of Toronto  \n",
    "For the Toronto neighborhood data, a Wikipedia page exists that has all the information we need to explore and cluster the neighborhoods in Toronto. You will be required to scrape the Wikipedia page and wrangle the data, clean it, and then read it into a pandas dataframe so that it is in a structured format like the New York dataset.  \n",
    "Once the data is in a structured format, you can replicate the analysis that we did to the New York City dataset to explore and cluster the neighborhoods in the city of Toronto.  \n"
   ]
  },
  {
   "cell_type": "markdown",
   "metadata": {},
   "source": [
    "## 2.1. Wrangle data: Scrape wiki article\n",
    "Ref: https://en.wikipedia.org/wiki/List_of_postal_codes_of_Canada:_M  "
   ]
  },
  {
   "cell_type": "code",
   "execution_count": 3,
   "metadata": {},
   "outputs": [],
   "source": [
    "from bs4 import BeautifulSoup\n",
    "import requests"
   ]
  },
  {
   "cell_type": "markdown",
   "metadata": {},
   "source": [
    "Scrape the wiki article:"
   ]
  },
  {
   "cell_type": "code",
   "execution_count": 4,
   "metadata": {},
   "outputs": [
    {
     "name": "stdout",
     "output_type": "stream",
     "text": [
      "Page scraped! Page Title: List of postal codes of Canada: M - Wikipedia\n"
     ]
    }
   ],
   "source": [
    "#URL to scrape\n",
    "url = \"https://en.wikipedia.org/wiki/List_of_postal_codes_of_Canada:_M\"\n",
    "\n",
    "# Make a GET request to fetch the raw HTML content\n",
    "html_content = requests.get(url).text\n",
    "\n",
    "# Parse the html content\n",
    "soup = BeautifulSoup(html_content, \"lxml\")\n",
    "\n",
    "# Verify the scrape\n",
    "print(\"Page scraped! Page Title:\",soup.title.string)"
   ]
  },
  {
   "cell_type": "markdown",
   "metadata": {},
   "source": [
    "Create dataframe:"
   ]
  },
  {
   "cell_type": "code",
   "execution_count": 5,
   "metadata": {},
   "outputs": [],
   "source": [
    "table = soup.find(\"table\", attrs={\"class\": \"wikitable sortable\"})\n",
    "table_data = table.find_all(\"tr\")"
   ]
  },
  {
   "cell_type": "code",
   "execution_count": 6,
   "metadata": {},
   "outputs": [
    {
     "data": {
      "text/html": [
       "<div>\n",
       "<style scoped>\n",
       "    .dataframe tbody tr th:only-of-type {\n",
       "        vertical-align: middle;\n",
       "    }\n",
       "\n",
       "    .dataframe tbody tr th {\n",
       "        vertical-align: top;\n",
       "    }\n",
       "\n",
       "    .dataframe thead th {\n",
       "        text-align: right;\n",
       "    }\n",
       "</style>\n",
       "<table border=\"1\" class=\"dataframe\">\n",
       "  <thead>\n",
       "    <tr style=\"text-align: right;\">\n",
       "      <th></th>\n",
       "      <th>Postal Code</th>\n",
       "      <th>Borough</th>\n",
       "      <th>Neighbourhood</th>\n",
       "    </tr>\n",
       "  </thead>\n",
       "  <tbody>\n",
       "    <tr>\n",
       "      <th>0</th>\n",
       "      <td>None</td>\n",
       "      <td>None</td>\n",
       "      <td>None</td>\n",
       "    </tr>\n",
       "    <tr>\n",
       "      <th>1</th>\n",
       "      <td>M1A</td>\n",
       "      <td>Not assigned</td>\n",
       "      <td>Not assigned</td>\n",
       "    </tr>\n",
       "    <tr>\n",
       "      <th>2</th>\n",
       "      <td>M2A</td>\n",
       "      <td>Not assigned</td>\n",
       "      <td>Not assigned</td>\n",
       "    </tr>\n",
       "    <tr>\n",
       "      <th>3</th>\n",
       "      <td>M3A</td>\n",
       "      <td>North York</td>\n",
       "      <td>Parkwoods</td>\n",
       "    </tr>\n",
       "    <tr>\n",
       "      <th>4</th>\n",
       "      <td>M4A</td>\n",
       "      <td>North York</td>\n",
       "      <td>Victoria Village</td>\n",
       "    </tr>\n",
       "    <tr>\n",
       "      <th>...</th>\n",
       "      <td>...</td>\n",
       "      <td>...</td>\n",
       "      <td>...</td>\n",
       "    </tr>\n",
       "    <tr>\n",
       "      <th>176</th>\n",
       "      <td>M5Z</td>\n",
       "      <td>Not assigned</td>\n",
       "      <td>Not assigned</td>\n",
       "    </tr>\n",
       "    <tr>\n",
       "      <th>177</th>\n",
       "      <td>M6Z</td>\n",
       "      <td>Not assigned</td>\n",
       "      <td>Not assigned</td>\n",
       "    </tr>\n",
       "    <tr>\n",
       "      <th>178</th>\n",
       "      <td>M7Z</td>\n",
       "      <td>Not assigned</td>\n",
       "      <td>Not assigned</td>\n",
       "    </tr>\n",
       "    <tr>\n",
       "      <th>179</th>\n",
       "      <td>M8Z</td>\n",
       "      <td>Etobicoke</td>\n",
       "      <td>Mimico NW, The Queensway West, South of Bloor,...</td>\n",
       "    </tr>\n",
       "    <tr>\n",
       "      <th>180</th>\n",
       "      <td>M9Z</td>\n",
       "      <td>Not assigned</td>\n",
       "      <td>Not assigned</td>\n",
       "    </tr>\n",
       "  </tbody>\n",
       "</table>\n",
       "<p>181 rows × 3 columns</p>\n",
       "</div>"
      ],
      "text/plain": [
       "    Postal Code       Borough  \\\n",
       "0          None          None   \n",
       "1           M1A  Not assigned   \n",
       "2           M2A  Not assigned   \n",
       "3           M3A    North York   \n",
       "4           M4A    North York   \n",
       "..          ...           ...   \n",
       "176         M5Z  Not assigned   \n",
       "177         M6Z  Not assigned   \n",
       "178         M7Z  Not assigned   \n",
       "179         M8Z     Etobicoke   \n",
       "180         M9Z  Not assigned   \n",
       "\n",
       "                                         Neighbourhood  \n",
       "0                                                 None  \n",
       "1                                         Not assigned  \n",
       "2                                         Not assigned  \n",
       "3                                            Parkwoods  \n",
       "4                                     Victoria Village  \n",
       "..                                                 ...  \n",
       "176                                       Not assigned  \n",
       "177                                       Not assigned  \n",
       "178                                       Not assigned  \n",
       "179  Mimico NW, The Queensway West, South of Bloor,...  \n",
       "180                                       Not assigned  \n",
       "\n",
       "[181 rows x 3 columns]"
      ]
     },
     "execution_count": 6,
     "metadata": {},
     "output_type": "execute_result"
    }
   ],
   "source": [
    "df = []\n",
    "for tr in table_data:\n",
    "    td = tr.find_all('td')\n",
    "    row = [tr.text.strip() for tr in td]\n",
    "    df.append(row)\n",
    "\n",
    "df = pd.DataFrame(df, columns=[\"Postal Code\", \"Borough\", \"Neighbourhood\"])\n",
    "df"
   ]
  },
  {
   "cell_type": "markdown",
   "metadata": {},
   "source": [
    "Cleanup:"
   ]
  },
  {
   "cell_type": "code",
   "execution_count": 7,
   "metadata": {},
   "outputs": [
    {
     "data": {
      "text/html": [
       "<div>\n",
       "<style scoped>\n",
       "    .dataframe tbody tr th:only-of-type {\n",
       "        vertical-align: middle;\n",
       "    }\n",
       "\n",
       "    .dataframe tbody tr th {\n",
       "        vertical-align: top;\n",
       "    }\n",
       "\n",
       "    .dataframe thead th {\n",
       "        text-align: right;\n",
       "    }\n",
       "</style>\n",
       "<table border=\"1\" class=\"dataframe\">\n",
       "  <thead>\n",
       "    <tr style=\"text-align: right;\">\n",
       "      <th></th>\n",
       "      <th>Postal Code</th>\n",
       "      <th>Borough</th>\n",
       "      <th>Neighbourhood</th>\n",
       "    </tr>\n",
       "  </thead>\n",
       "  <tbody>\n",
       "    <tr>\n",
       "      <th>1</th>\n",
       "      <td>M1A</td>\n",
       "      <td>Not assigned</td>\n",
       "      <td>Not assigned</td>\n",
       "    </tr>\n",
       "    <tr>\n",
       "      <th>2</th>\n",
       "      <td>M2A</td>\n",
       "      <td>Not assigned</td>\n",
       "      <td>Not assigned</td>\n",
       "    </tr>\n",
       "    <tr>\n",
       "      <th>3</th>\n",
       "      <td>M3A</td>\n",
       "      <td>North York</td>\n",
       "      <td>Parkwoods</td>\n",
       "    </tr>\n",
       "    <tr>\n",
       "      <th>4</th>\n",
       "      <td>M4A</td>\n",
       "      <td>North York</td>\n",
       "      <td>Victoria Village</td>\n",
       "    </tr>\n",
       "    <tr>\n",
       "      <th>5</th>\n",
       "      <td>M5A</td>\n",
       "      <td>Downtown Toronto</td>\n",
       "      <td>Regent Park, Harbourfront</td>\n",
       "    </tr>\n",
       "    <tr>\n",
       "      <th>...</th>\n",
       "      <td>...</td>\n",
       "      <td>...</td>\n",
       "      <td>...</td>\n",
       "    </tr>\n",
       "    <tr>\n",
       "      <th>176</th>\n",
       "      <td>M5Z</td>\n",
       "      <td>Not assigned</td>\n",
       "      <td>Not assigned</td>\n",
       "    </tr>\n",
       "    <tr>\n",
       "      <th>177</th>\n",
       "      <td>M6Z</td>\n",
       "      <td>Not assigned</td>\n",
       "      <td>Not assigned</td>\n",
       "    </tr>\n",
       "    <tr>\n",
       "      <th>178</th>\n",
       "      <td>M7Z</td>\n",
       "      <td>Not assigned</td>\n",
       "      <td>Not assigned</td>\n",
       "    </tr>\n",
       "    <tr>\n",
       "      <th>179</th>\n",
       "      <td>M8Z</td>\n",
       "      <td>Etobicoke</td>\n",
       "      <td>Mimico NW, The Queensway West, South of Bloor,...</td>\n",
       "    </tr>\n",
       "    <tr>\n",
       "      <th>180</th>\n",
       "      <td>M9Z</td>\n",
       "      <td>Not assigned</td>\n",
       "      <td>Not assigned</td>\n",
       "    </tr>\n",
       "  </tbody>\n",
       "</table>\n",
       "<p>180 rows × 3 columns</p>\n",
       "</div>"
      ],
      "text/plain": [
       "    Postal Code           Borough  \\\n",
       "1           M1A      Not assigned   \n",
       "2           M2A      Not assigned   \n",
       "3           M3A        North York   \n",
       "4           M4A        North York   \n",
       "5           M5A  Downtown Toronto   \n",
       "..          ...               ...   \n",
       "176         M5Z      Not assigned   \n",
       "177         M6Z      Not assigned   \n",
       "178         M7Z      Not assigned   \n",
       "179         M8Z         Etobicoke   \n",
       "180         M9Z      Not assigned   \n",
       "\n",
       "                                         Neighbourhood  \n",
       "1                                         Not assigned  \n",
       "2                                         Not assigned  \n",
       "3                                            Parkwoods  \n",
       "4                                     Victoria Village  \n",
       "5                            Regent Park, Harbourfront  \n",
       "..                                                 ...  \n",
       "176                                       Not assigned  \n",
       "177                                       Not assigned  \n",
       "178                                       Not assigned  \n",
       "179  Mimico NW, The Queensway West, South of Bloor,...  \n",
       "180                                       Not assigned  \n",
       "\n",
       "[180 rows x 3 columns]"
      ]
     },
     "execution_count": 7,
     "metadata": {},
     "output_type": "execute_result"
    }
   ],
   "source": [
    "df.drop(index=0, inplace=True)\n",
    "df"
   ]
  },
  {
   "cell_type": "markdown",
   "metadata": {},
   "source": [
    "Checked below is to see which rows 'Neighbourhood'=='Borough' as per instructor comment:  \n",
    ">If a cell has a borough but a Not assigned neighborhood, then the neighborhood will be the same as the borough.  "
   ]
  },
  {
   "cell_type": "code",
   "execution_count": 8,
   "metadata": {},
   "outputs": [
    {
     "data": {
      "text/html": [
       "<div>\n",
       "<style scoped>\n",
       "    .dataframe tbody tr th:only-of-type {\n",
       "        vertical-align: middle;\n",
       "    }\n",
       "\n",
       "    .dataframe tbody tr th {\n",
       "        vertical-align: top;\n",
       "    }\n",
       "\n",
       "    .dataframe thead th {\n",
       "        text-align: right;\n",
       "    }\n",
       "</style>\n",
       "<table border=\"1\" class=\"dataframe\">\n",
       "  <thead>\n",
       "    <tr style=\"text-align: right;\">\n",
       "      <th></th>\n",
       "      <th>Postal Code</th>\n",
       "      <th>Neighbourhood</th>\n",
       "    </tr>\n",
       "    <tr>\n",
       "      <th>Borough</th>\n",
       "      <th></th>\n",
       "      <th></th>\n",
       "    </tr>\n",
       "  </thead>\n",
       "  <tbody>\n",
       "    <tr>\n",
       "      <th>Not assigned</th>\n",
       "      <td>77</td>\n",
       "      <td>77</td>\n",
       "    </tr>\n",
       "  </tbody>\n",
       "</table>\n",
       "</div>"
      ],
      "text/plain": [
       "              Postal Code  Neighbourhood\n",
       "Borough                                 \n",
       "Not assigned           77             77"
      ]
     },
     "execution_count": 8,
     "metadata": {},
     "output_type": "execute_result"
    }
   ],
   "source": [
    "assigned=df[df['Borough']==df['Neighbourhood']]\n",
    "assigned.groupby('Borough').count()"
   ]
  },
  {
   "cell_type": "markdown",
   "metadata": {},
   "source": [
    "After check, all 'Borough' == 'Neighbourhood' have a value of 'Not assigned'. Will proceed to drop rows with 'Not assigned."
   ]
  },
  {
   "cell_type": "code",
   "execution_count": 9,
   "metadata": {},
   "outputs": [
    {
     "data": {
      "text/html": [
       "<div>\n",
       "<style scoped>\n",
       "    .dataframe tbody tr th:only-of-type {\n",
       "        vertical-align: middle;\n",
       "    }\n",
       "\n",
       "    .dataframe tbody tr th {\n",
       "        vertical-align: top;\n",
       "    }\n",
       "\n",
       "    .dataframe thead th {\n",
       "        text-align: right;\n",
       "    }\n",
       "</style>\n",
       "<table border=\"1\" class=\"dataframe\">\n",
       "  <thead>\n",
       "    <tr style=\"text-align: right;\">\n",
       "      <th></th>\n",
       "      <th>Postal Code</th>\n",
       "      <th>Borough</th>\n",
       "      <th>Neighbourhood</th>\n",
       "    </tr>\n",
       "  </thead>\n",
       "  <tbody>\n",
       "    <tr>\n",
       "      <th>3</th>\n",
       "      <td>M3A</td>\n",
       "      <td>North York</td>\n",
       "      <td>Parkwoods</td>\n",
       "    </tr>\n",
       "    <tr>\n",
       "      <th>4</th>\n",
       "      <td>M4A</td>\n",
       "      <td>North York</td>\n",
       "      <td>Victoria Village</td>\n",
       "    </tr>\n",
       "    <tr>\n",
       "      <th>5</th>\n",
       "      <td>M5A</td>\n",
       "      <td>Downtown Toronto</td>\n",
       "      <td>Regent Park, Harbourfront</td>\n",
       "    </tr>\n",
       "    <tr>\n",
       "      <th>6</th>\n",
       "      <td>M6A</td>\n",
       "      <td>North York</td>\n",
       "      <td>Lawrence Manor, Lawrence Heights</td>\n",
       "    </tr>\n",
       "    <tr>\n",
       "      <th>7</th>\n",
       "      <td>M7A</td>\n",
       "      <td>Downtown Toronto</td>\n",
       "      <td>Queen's Park, Ontario Provincial Government</td>\n",
       "    </tr>\n",
       "    <tr>\n",
       "      <th>...</th>\n",
       "      <td>...</td>\n",
       "      <td>...</td>\n",
       "      <td>...</td>\n",
       "    </tr>\n",
       "    <tr>\n",
       "      <th>161</th>\n",
       "      <td>M8X</td>\n",
       "      <td>Etobicoke</td>\n",
       "      <td>The Kingsway, Montgomery Road, Old Mill North</td>\n",
       "    </tr>\n",
       "    <tr>\n",
       "      <th>166</th>\n",
       "      <td>M4Y</td>\n",
       "      <td>Downtown Toronto</td>\n",
       "      <td>Church and Wellesley</td>\n",
       "    </tr>\n",
       "    <tr>\n",
       "      <th>169</th>\n",
       "      <td>M7Y</td>\n",
       "      <td>East Toronto</td>\n",
       "      <td>Business reply mail Processing Centre, South C...</td>\n",
       "    </tr>\n",
       "    <tr>\n",
       "      <th>170</th>\n",
       "      <td>M8Y</td>\n",
       "      <td>Etobicoke</td>\n",
       "      <td>Old Mill South, King's Mill Park, Sunnylea, Hu...</td>\n",
       "    </tr>\n",
       "    <tr>\n",
       "      <th>179</th>\n",
       "      <td>M8Z</td>\n",
       "      <td>Etobicoke</td>\n",
       "      <td>Mimico NW, The Queensway West, South of Bloor,...</td>\n",
       "    </tr>\n",
       "  </tbody>\n",
       "</table>\n",
       "<p>103 rows × 3 columns</p>\n",
       "</div>"
      ],
      "text/plain": [
       "    Postal Code           Borough  \\\n",
       "3           M3A        North York   \n",
       "4           M4A        North York   \n",
       "5           M5A  Downtown Toronto   \n",
       "6           M6A        North York   \n",
       "7           M7A  Downtown Toronto   \n",
       "..          ...               ...   \n",
       "161         M8X         Etobicoke   \n",
       "166         M4Y  Downtown Toronto   \n",
       "169         M7Y      East Toronto   \n",
       "170         M8Y         Etobicoke   \n",
       "179         M8Z         Etobicoke   \n",
       "\n",
       "                                         Neighbourhood  \n",
       "3                                            Parkwoods  \n",
       "4                                     Victoria Village  \n",
       "5                            Regent Park, Harbourfront  \n",
       "6                     Lawrence Manor, Lawrence Heights  \n",
       "7          Queen's Park, Ontario Provincial Government  \n",
       "..                                                 ...  \n",
       "161      The Kingsway, Montgomery Road, Old Mill North  \n",
       "166                               Church and Wellesley  \n",
       "169  Business reply mail Processing Centre, South C...  \n",
       "170  Old Mill South, King's Mill Park, Sunnylea, Hu...  \n",
       "179  Mimico NW, The Queensway West, South of Bloor,...  \n",
       "\n",
       "[103 rows x 3 columns]"
      ]
     },
     "execution_count": 9,
     "metadata": {},
     "output_type": "execute_result"
    }
   ],
   "source": [
    "df = df[~df.Borough.str.contains(\"Not assigned\")]\n",
    "df = df[~df.Neighbourhood.str.contains(\"Not assigned\")]\n",
    "df"
   ]
  },
  {
   "cell_type": "code",
   "execution_count": 10,
   "metadata": {},
   "outputs": [
    {
     "data": {
      "text/html": [
       "<div>\n",
       "<style scoped>\n",
       "    .dataframe tbody tr th:only-of-type {\n",
       "        vertical-align: middle;\n",
       "    }\n",
       "\n",
       "    .dataframe tbody tr th {\n",
       "        vertical-align: top;\n",
       "    }\n",
       "\n",
       "    .dataframe thead th {\n",
       "        text-align: right;\n",
       "    }\n",
       "</style>\n",
       "<table border=\"1\" class=\"dataframe\">\n",
       "  <thead>\n",
       "    <tr style=\"text-align: right;\">\n",
       "      <th></th>\n",
       "      <th>Postal Code</th>\n",
       "      <th>Borough</th>\n",
       "      <th>Neighbourhood</th>\n",
       "    </tr>\n",
       "  </thead>\n",
       "  <tbody>\n",
       "    <tr>\n",
       "      <th>0</th>\n",
       "      <td>M3A</td>\n",
       "      <td>North York</td>\n",
       "      <td>Parkwoods</td>\n",
       "    </tr>\n",
       "    <tr>\n",
       "      <th>1</th>\n",
       "      <td>M4A</td>\n",
       "      <td>North York</td>\n",
       "      <td>Victoria Village</td>\n",
       "    </tr>\n",
       "    <tr>\n",
       "      <th>2</th>\n",
       "      <td>M5A</td>\n",
       "      <td>Downtown Toronto</td>\n",
       "      <td>Regent Park, Harbourfront</td>\n",
       "    </tr>\n",
       "    <tr>\n",
       "      <th>3</th>\n",
       "      <td>M6A</td>\n",
       "      <td>North York</td>\n",
       "      <td>Lawrence Manor, Lawrence Heights</td>\n",
       "    </tr>\n",
       "    <tr>\n",
       "      <th>4</th>\n",
       "      <td>M7A</td>\n",
       "      <td>Downtown Toronto</td>\n",
       "      <td>Queen's Park, Ontario Provincial Government</td>\n",
       "    </tr>\n",
       "    <tr>\n",
       "      <th>...</th>\n",
       "      <td>...</td>\n",
       "      <td>...</td>\n",
       "      <td>...</td>\n",
       "    </tr>\n",
       "    <tr>\n",
       "      <th>98</th>\n",
       "      <td>M8X</td>\n",
       "      <td>Etobicoke</td>\n",
       "      <td>The Kingsway, Montgomery Road, Old Mill North</td>\n",
       "    </tr>\n",
       "    <tr>\n",
       "      <th>99</th>\n",
       "      <td>M4Y</td>\n",
       "      <td>Downtown Toronto</td>\n",
       "      <td>Church and Wellesley</td>\n",
       "    </tr>\n",
       "    <tr>\n",
       "      <th>100</th>\n",
       "      <td>M7Y</td>\n",
       "      <td>East Toronto</td>\n",
       "      <td>Business reply mail Processing Centre, South C...</td>\n",
       "    </tr>\n",
       "    <tr>\n",
       "      <th>101</th>\n",
       "      <td>M8Y</td>\n",
       "      <td>Etobicoke</td>\n",
       "      <td>Old Mill South, King's Mill Park, Sunnylea, Hu...</td>\n",
       "    </tr>\n",
       "    <tr>\n",
       "      <th>102</th>\n",
       "      <td>M8Z</td>\n",
       "      <td>Etobicoke</td>\n",
       "      <td>Mimico NW, The Queensway West, South of Bloor,...</td>\n",
       "    </tr>\n",
       "  </tbody>\n",
       "</table>\n",
       "<p>103 rows × 3 columns</p>\n",
       "</div>"
      ],
      "text/plain": [
       "    Postal Code           Borough  \\\n",
       "0           M3A        North York   \n",
       "1           M4A        North York   \n",
       "2           M5A  Downtown Toronto   \n",
       "3           M6A        North York   \n",
       "4           M7A  Downtown Toronto   \n",
       "..          ...               ...   \n",
       "98          M8X         Etobicoke   \n",
       "99          M4Y  Downtown Toronto   \n",
       "100         M7Y      East Toronto   \n",
       "101         M8Y         Etobicoke   \n",
       "102         M8Z         Etobicoke   \n",
       "\n",
       "                                         Neighbourhood  \n",
       "0                                            Parkwoods  \n",
       "1                                     Victoria Village  \n",
       "2                            Regent Park, Harbourfront  \n",
       "3                     Lawrence Manor, Lawrence Heights  \n",
       "4          Queen's Park, Ontario Provincial Government  \n",
       "..                                                 ...  \n",
       "98       The Kingsway, Montgomery Road, Old Mill North  \n",
       "99                                Church and Wellesley  \n",
       "100  Business reply mail Processing Centre, South C...  \n",
       "101  Old Mill South, King's Mill Park, Sunnylea, Hu...  \n",
       "102  Mimico NW, The Queensway West, South of Bloor,...  \n",
       "\n",
       "[103 rows x 3 columns]"
      ]
     },
     "execution_count": 10,
     "metadata": {},
     "output_type": "execute_result"
    }
   ],
   "source": [
    "df.reset_index(inplace=True, drop=True)\n",
    "df"
   ]
  },
  {
   "cell_type": "code",
   "execution_count": 11,
   "metadata": {},
   "outputs": [
    {
     "data": {
      "text/plain": [
       "(103, 3)"
      ]
     },
     "execution_count": 11,
     "metadata": {},
     "output_type": "execute_result"
    }
   ],
   "source": [
    "df.shape"
   ]
  },
  {
   "cell_type": "markdown",
   "metadata": {},
   "source": [
    "## 2.2. Get geo coordinates for postal codes\n",
    "Now that you have built a dataframe of the postal code of each neighborhood along with the borough name and neighborhood name, in order to utilize the Foursquare location data, we need to get the latitude and the longitude coordinates of each neighborhood.  "
   ]
  },
  {
   "cell_type": "code",
   "execution_count": 12,
   "metadata": {},
   "outputs": [],
   "source": [
    "import geocoder"
   ]
  },
  {
   "cell_type": "markdown",
   "metadata": {},
   "source": [
    "Loop to add long and lat to df, used arcgis service to find values as it worked more reliably:"
   ]
  },
  {
   "cell_type": "code",
   "execution_count": 13,
   "metadata": {},
   "outputs": [
    {
     "data": {
      "text/html": [
       "<div>\n",
       "<style scoped>\n",
       "    .dataframe tbody tr th:only-of-type {\n",
       "        vertical-align: middle;\n",
       "    }\n",
       "\n",
       "    .dataframe tbody tr th {\n",
       "        vertical-align: top;\n",
       "    }\n",
       "\n",
       "    .dataframe thead th {\n",
       "        text-align: right;\n",
       "    }\n",
       "</style>\n",
       "<table border=\"1\" class=\"dataframe\">\n",
       "  <thead>\n",
       "    <tr style=\"text-align: right;\">\n",
       "      <th></th>\n",
       "      <th>Postal Code</th>\n",
       "      <th>Borough</th>\n",
       "      <th>Neighbourhood</th>\n",
       "      <th>Latitude</th>\n",
       "      <th>Longitude</th>\n",
       "    </tr>\n",
       "  </thead>\n",
       "  <tbody>\n",
       "    <tr>\n",
       "      <th>0</th>\n",
       "      <td>M3A</td>\n",
       "      <td>North York</td>\n",
       "      <td>Parkwoods</td>\n",
       "      <td>43.75188</td>\n",
       "      <td>-79.33036</td>\n",
       "    </tr>\n",
       "    <tr>\n",
       "      <th>1</th>\n",
       "      <td>M4A</td>\n",
       "      <td>North York</td>\n",
       "      <td>Victoria Village</td>\n",
       "      <td>43.73042</td>\n",
       "      <td>-79.31282</td>\n",
       "    </tr>\n",
       "    <tr>\n",
       "      <th>2</th>\n",
       "      <td>M5A</td>\n",
       "      <td>Downtown Toronto</td>\n",
       "      <td>Regent Park, Harbourfront</td>\n",
       "      <td>43.65514</td>\n",
       "      <td>-79.36265</td>\n",
       "    </tr>\n",
       "    <tr>\n",
       "      <th>3</th>\n",
       "      <td>M6A</td>\n",
       "      <td>North York</td>\n",
       "      <td>Lawrence Manor, Lawrence Heights</td>\n",
       "      <td>43.72321</td>\n",
       "      <td>-79.45141</td>\n",
       "    </tr>\n",
       "    <tr>\n",
       "      <th>4</th>\n",
       "      <td>M7A</td>\n",
       "      <td>Downtown Toronto</td>\n",
       "      <td>Queen's Park, Ontario Provincial Government</td>\n",
       "      <td>43.66449</td>\n",
       "      <td>-79.39302</td>\n",
       "    </tr>\n",
       "    <tr>\n",
       "      <th>...</th>\n",
       "      <td>...</td>\n",
       "      <td>...</td>\n",
       "      <td>...</td>\n",
       "      <td>...</td>\n",
       "      <td>...</td>\n",
       "    </tr>\n",
       "    <tr>\n",
       "      <th>98</th>\n",
       "      <td>M8X</td>\n",
       "      <td>Etobicoke</td>\n",
       "      <td>The Kingsway, Montgomery Road, Old Mill North</td>\n",
       "      <td>43.65369</td>\n",
       "      <td>-79.51112</td>\n",
       "    </tr>\n",
       "    <tr>\n",
       "      <th>99</th>\n",
       "      <td>M4Y</td>\n",
       "      <td>Downtown Toronto</td>\n",
       "      <td>Church and Wellesley</td>\n",
       "      <td>43.66659</td>\n",
       "      <td>-79.38130</td>\n",
       "    </tr>\n",
       "    <tr>\n",
       "      <th>100</th>\n",
       "      <td>M7Y</td>\n",
       "      <td>East Toronto</td>\n",
       "      <td>Business reply mail Processing Centre, South C...</td>\n",
       "      <td>43.64869</td>\n",
       "      <td>-79.38544</td>\n",
       "    </tr>\n",
       "    <tr>\n",
       "      <th>101</th>\n",
       "      <td>M8Y</td>\n",
       "      <td>Etobicoke</td>\n",
       "      <td>Old Mill South, King's Mill Park, Sunnylea, Hu...</td>\n",
       "      <td>43.63288</td>\n",
       "      <td>-79.48955</td>\n",
       "    </tr>\n",
       "    <tr>\n",
       "      <th>102</th>\n",
       "      <td>M8Z</td>\n",
       "      <td>Etobicoke</td>\n",
       "      <td>Mimico NW, The Queensway West, South of Bloor,...</td>\n",
       "      <td>43.62463</td>\n",
       "      <td>-79.52835</td>\n",
       "    </tr>\n",
       "  </tbody>\n",
       "</table>\n",
       "<p>103 rows × 5 columns</p>\n",
       "</div>"
      ],
      "text/plain": [
       "    Postal Code           Borough  \\\n",
       "0           M3A        North York   \n",
       "1           M4A        North York   \n",
       "2           M5A  Downtown Toronto   \n",
       "3           M6A        North York   \n",
       "4           M7A  Downtown Toronto   \n",
       "..          ...               ...   \n",
       "98          M8X         Etobicoke   \n",
       "99          M4Y  Downtown Toronto   \n",
       "100         M7Y      East Toronto   \n",
       "101         M8Y         Etobicoke   \n",
       "102         M8Z         Etobicoke   \n",
       "\n",
       "                                         Neighbourhood  Latitude  Longitude  \n",
       "0                                            Parkwoods  43.75188  -79.33036  \n",
       "1                                     Victoria Village  43.73042  -79.31282  \n",
       "2                            Regent Park, Harbourfront  43.65514  -79.36265  \n",
       "3                     Lawrence Manor, Lawrence Heights  43.72321  -79.45141  \n",
       "4          Queen's Park, Ontario Provincial Government  43.66449  -79.39302  \n",
       "..                                                 ...       ...        ...  \n",
       "98       The Kingsway, Montgomery Road, Old Mill North  43.65369  -79.51112  \n",
       "99                                Church and Wellesley  43.66659  -79.38130  \n",
       "100  Business reply mail Processing Centre, South C...  43.64869  -79.38544  \n",
       "101  Old Mill South, King's Mill Park, Sunnylea, Hu...  43.63288  -79.48955  \n",
       "102  Mimico NW, The Queensway West, South of Bloor,...  43.62463  -79.52835  \n",
       "\n",
       "[103 rows x 5 columns]"
      ]
     },
     "execution_count": 13,
     "metadata": {},
     "output_type": "execute_result"
    }
   ],
   "source": [
    "latitude=[]\n",
    "longitude=[]\n",
    "\n",
    "for i in df['Postal Code']:\n",
    "    g = geocoder.arcgis('{},Toronto, Ontario'.format(i))\n",
    "    lat_lng_coords = g.latlng\n",
    "    latitude.append(lat_lng_coords[0])\n",
    "    longitude.append(lat_lng_coords[1])\n",
    "\n",
    "df['Latitude'] = pd.DataFrame(latitude)\n",
    "df['Longitude'] = pd.DataFrame(longitude)\n",
    "\n",
    "df"
   ]
  },
  {
   "cell_type": "markdown",
   "metadata": {},
   "source": [
    "## 2.3. Generate maps\n",
    "Explore and cluster the neighborhoods in Toronto. You can decide to work with only boroughs that contain the word Toronto and then replicate the same analysis we did to the New York City data. It is up to you.\n",
    "\n",
    "Just make sure to add enough Markdown cells to explain what you decided to do and to report any observations you make, and generate maps to visualize your neighborhoods and how they cluster together."
   ]
  },
  {
   "cell_type": "code",
   "execution_count": 14,
   "metadata": {},
   "outputs": [],
   "source": [
    "import folium\n",
    "from folium import plugins"
   ]
  },
  {
   "cell_type": "code",
   "execution_count": 15,
   "metadata": {
    "button": false,
    "new_sheet": false,
    "run_control": {
     "read_only": false
    }
   },
   "outputs": [],
   "source": [
    "# Capture Toronto lat long for use in map\n",
    "g = geocoder.arcgis('Toronto, Ontario')\n",
    "lat_lng_coords = g.latlng\n",
    "latitude=lat_lng_coords[0]\n",
    "longitude=lat_lng_coords[1]"
   ]
  },
  {
   "cell_type": "code",
   "execution_count": 16,
   "metadata": {},
   "outputs": [
    {
     "data": {
      "text/html": [
       "<div style=\"width:100%;\"><div style=\"position:relative;width:100%;height:0;padding-bottom:60%;\"><span style=\"color:#565656\">Make this Notebook Trusted to load map: File -> Trust Notebook</span><iframe src=\"about:blank\" style=\"position:absolute;width:100%;height:100%;left:0;top:0;border:none !important;\" data-html=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 onload=\"this.contentDocument.open();this.contentDocument.write(atob(this.getAttribute('data-html')));this.contentDocument.close();\" allowfullscreen webkitallowfullscreen mozallowfullscreen></iframe></div></div>"
      ],
      "text/plain": [
       "<folium.folium.Map at 0x7fa92243f7d0>"
      ]
     },
     "execution_count": 16,
     "metadata": {},
     "output_type": "execute_result"
    }
   ],
   "source": [
    "# Create folium map\n",
    "toronto_map = folium.Map(location = [latitude, longitude], zoom_start = 11)\n",
    "\n",
    "# Cluster\n",
    "nb = plugins.MarkerCluster().add_to(toronto_map)\n",
    "\n",
    "# Add locations to cluster\n",
    "for lat, lng, label, in zip(df.Latitude, df.Longitude, df.Borough):\n",
    "    folium.Marker(\n",
    "        location=[lat, lng],\n",
    "        icon=None,\n",
    "        popup=label,\n",
    "    ).add_to(nb)\n",
    "\n",
    "# Display map\n",
    "toronto_map"
   ]
  },
  {
   "cell_type": "markdown",
   "metadata": {},
   "source": [
    "<a id='item3'></a>\n",
    "# 3. Final Assigment"
   ]
  },
  {
   "cell_type": "markdown",
   "metadata": {},
   "source": [
    "## 3.1. Description of the problem and a discussion of the background."
   ]
  },
  {
   "cell_type": "markdown",
   "metadata": {},
   "source": [
    "## Title: Over and Under\n",
    "\n",
    "#### Problem:\n",
    "- High crime regions have less businesses by absolute numbers when compared to low crime regions.\n",
    "\n",
    "#### Hypothesis:\n",
    "- The low number of business in high crime regions is due to criminal code which makes certain markets illegal, this includes the sale of prohibited substances. The majority of narcotics charges will be concentrated in high crime regions.\n",
    "- If the sale or intent to sell of illegal substance is treated as supply, businesses through absolute numbers will have less disparity.\n",
    "- This will provide insight into any projects, policies or discussions surrounding the adverse affects of stricter control of some substances verses others. Specifically, alcohol verses marijuana.\n",
    "\n",
    "#### Data:\n",
    "- This will focus strictly on the city of Chicago, Illinois.\n",
    "- Data sources:\n",
    "    1. Chicago crimes, calendar year 2019. ref: https://data.cityofchicago.org/Public-Safety/Crimes-2001-to-Present/ijzp-q8t2\n",
    "    2. Foursquare API, current. ref: https://developer.foursquare.com/docs/\n",
    "    \n",
    "#### Assumptions:\n",
    "- Average amount of employees per legal substance business (drinking places, alcoholic beverages) business = 8.2 staff. ref:https://data.bls.gov/cew/apps/table_maker/v4/table_maker.htm#type=0&year=2019&qtr=4&own=5&ind=722410&supp=0\n",
    "- All narcotic charges with intent to sell charges are for the substance marijuana. This is because the data set doesn't differentiate between substances.\n",
    "\n",
    "#### Future development:\n",
    "- How would crime driven by illegal markets be affected if these markets were made legal?\n",
    "- Particular countries and states have made marijuana a legal substance for distribution, how has this affected crime and how has this affected consumption?"
   ]
  },
  {
   "cell_type": "code",
   "execution_count": null,
   "metadata": {},
   "outputs": [],
   "source": []
  }
 ],
 "metadata": {
  "kernelspec": {
   "display_name": "Python 3",
   "language": "python",
   "name": "python3"
  },
  "language_info": {
   "codemirror_mode": {
    "name": "ipython",
    "version": 3
   },
   "file_extension": ".py",
   "mimetype": "text/x-python",
   "name": "python",
   "nbconvert_exporter": "python",
   "pygments_lexer": "ipython3",
   "version": "3.7.6"
  }
 },
 "nbformat": 4,
 "nbformat_minor": 4
}
