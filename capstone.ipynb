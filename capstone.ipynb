{
 "cells": [
  {
   "cell_type": "markdown",
   "metadata": {},
   "source": [
    "# IBM Applied Data Science Capstone Project"
   ]
  },
  {
   "cell_type": "markdown",
   "metadata": {},
   "source": [
    "## Table of Contents\n",
    "\n",
    "<div class=\"alert alert-block alert-info\" style=\"margin-top: 20px\">\n",
    "\n",
    "<font size = 3>\n",
    "\n",
    "1. <a href=\"#item1\">Assignment 1: Setup notebook</a>\n",
    "\n",
    "2. <a href=\"#item2\">Assignment 2: Scrape wiki and generate map with clusters</a> \n",
    "    \n",
    "3. <a href=\"#item3\">Assignment 3: Final assignment</a> \n",
    "    \n",
    "</font>\n",
    "</div>"
   ]
  },
  {
   "cell_type": "markdown",
   "metadata": {},
   "source": [
    "<a id='item1'></a>\n",
    "# Assignment 1\n",
    "Notebook setup and post to Github"
   ]
  },
  {
   "cell_type": "code",
   "execution_count": null,
   "metadata": {},
   "outputs": [],
   "source": [
    "# Initial setup of libraries\n",
    "import pandas as pd\n",
    "import numpy as np"
   ]
  },
  {
   "cell_type": "code",
   "execution_count": null,
   "metadata": {},
   "outputs": [],
   "source": [
    "print('Hello Capstone Project Course!')"
   ]
  },
  {
   "cell_type": "markdown",
   "metadata": {},
   "source": [
    "<a id='item2'></a>\n",
    "# Assignment 2\n",
    "In this assignment, you will be required to explore, segment, and cluster the neighborhoods in the city of Toronto  \n",
    "For the Toronto neighborhood data, a Wikipedia page exists that has all the information we need to explore and cluster the neighborhoods in Toronto. You will be required to scrape the Wikipedia page and wrangle the data, clean it, and then read it into a pandas dataframe so that it is in a structured format like the New York dataset.  \n",
    "Once the data is in a structured format, you can replicate the analysis that we did to the New York City dataset to explore and cluster the neighborhoods in the city of Toronto.  \n"
   ]
  },
  {
   "cell_type": "markdown",
   "metadata": {},
   "source": [
    "## 2.1. Wrangle data: Scrape wiki article\n",
    "Ref: https://en.wikipedia.org/wiki/List_of_postal_codes_of_Canada:_M  "
   ]
  },
  {
   "cell_type": "code",
   "execution_count": null,
   "metadata": {},
   "outputs": [],
   "source": [
    "from bs4 import BeautifulSoup\n",
    "import requests"
   ]
  },
  {
   "cell_type": "markdown",
   "metadata": {},
   "source": [
    "Scrape the wiki article:"
   ]
  },
  {
   "cell_type": "code",
   "execution_count": null,
   "metadata": {},
   "outputs": [],
   "source": [
    "#URL to scrape\n",
    "url = \"https://en.wikipedia.org/wiki/List_of_postal_codes_of_Canada:_M\"\n",
    "\n",
    "# Make a GET request to fetch the raw HTML content\n",
    "html_content = requests.get(url).text\n",
    "\n",
    "# Parse the html content\n",
    "soup = BeautifulSoup(html_content, \"lxml\")\n",
    "\n",
    "# Verify the scrape\n",
    "print(\"Page scraped! Page Title:\",soup.title.string)"
   ]
  },
  {
   "cell_type": "markdown",
   "metadata": {},
   "source": [
    "Create dataframe:"
   ]
  },
  {
   "cell_type": "code",
   "execution_count": null,
   "metadata": {},
   "outputs": [],
   "source": [
    "table = soup.find(\"table\", attrs={\"class\": \"wikitable sortable\"})\n",
    "table_data = table.find_all(\"tr\")"
   ]
  },
  {
   "cell_type": "code",
   "execution_count": null,
   "metadata": {},
   "outputs": [],
   "source": [
    "df = []\n",
    "for tr in table_data:\n",
    "    td = tr.find_all('td')\n",
    "    row = [tr.text.strip() for tr in td]\n",
    "    df.append(row)\n",
    "\n",
    "df = pd.DataFrame(df, columns=[\"Postal Code\", \"Borough\", \"Neighbourhood\"])\n",
    "df"
   ]
  },
  {
   "cell_type": "markdown",
   "metadata": {},
   "source": [
    "Cleanup:"
   ]
  },
  {
   "cell_type": "code",
   "execution_count": null,
   "metadata": {},
   "outputs": [],
   "source": [
    "df.drop(index=0, inplace=True)\n",
    "df"
   ]
  },
  {
   "cell_type": "markdown",
   "metadata": {},
   "source": [
    "Checked below is to see which rows 'Neighbourhood'=='Borough' as per instructor comment:  \n",
    ">If a cell has a borough but a Not assigned neighborhood, then the neighborhood will be the same as the borough.  "
   ]
  },
  {
   "cell_type": "code",
   "execution_count": null,
   "metadata": {},
   "outputs": [],
   "source": [
    "assigned=df[df['Borough']==df['Neighbourhood']]\n",
    "assigned.groupby('Borough').count()"
   ]
  },
  {
   "cell_type": "markdown",
   "metadata": {},
   "source": [
    "After check, all 'Borough' == 'Neighbourhood' have a value of 'Not assigned'. Will proceed to drop rows with 'Not assigned."
   ]
  },
  {
   "cell_type": "code",
   "execution_count": null,
   "metadata": {},
   "outputs": [],
   "source": [
    "df = df[~df.Borough.str.contains(\"Not assigned\")]\n",
    "df = df[~df.Neighbourhood.str.contains(\"Not assigned\")]\n",
    "df"
   ]
  },
  {
   "cell_type": "code",
   "execution_count": null,
   "metadata": {},
   "outputs": [],
   "source": [
    "df.reset_index(inplace=True, drop=True)\n",
    "df"
   ]
  },
  {
   "cell_type": "code",
   "execution_count": null,
   "metadata": {},
   "outputs": [],
   "source": [
    "df.shape"
   ]
  },
  {
   "cell_type": "markdown",
   "metadata": {},
   "source": [
    "## 2.2. Get geo coordinates for postal codes\n",
    "Now that you have built a dataframe of the postal code of each neighborhood along with the borough name and neighborhood name, in order to utilize the Foursquare location data, we need to get the latitude and the longitude coordinates of each neighborhood.  "
   ]
  },
  {
   "cell_type": "code",
   "execution_count": null,
   "metadata": {},
   "outputs": [],
   "source": [
    "import geocoder"
   ]
  },
  {
   "cell_type": "markdown",
   "metadata": {},
   "source": [
    "Loop to add long and lat to df, used arcgis service to find values as it worked more reliably:"
   ]
  },
  {
   "cell_type": "code",
   "execution_count": null,
   "metadata": {},
   "outputs": [],
   "source": [
    "latitude=[]\n",
    "longitude=[]\n",
    "\n",
    "for i in df['Postal Code']:\n",
    "    g = geocoder.arcgis('{},Toronto, Ontario'.format(i))\n",
    "    lat_lng_coords = g.latlng\n",
    "    latitude.append(lat_lng_coords[0])\n",
    "    longitude.append(lat_lng_coords[1])\n",
    "\n",
    "df['Latitude'] = pd.DataFrame(latitude)\n",
    "df['Longitude'] = pd.DataFrame(longitude)\n",
    "\n",
    "df"
   ]
  },
  {
   "cell_type": "markdown",
   "metadata": {},
   "source": [
    "## 2.3. Generate maps\n",
    "Explore and cluster the neighborhoods in Toronto. You can decide to work with only boroughs that contain the word Toronto and then replicate the same analysis we did to the New York City data. It is up to you.\n",
    "\n",
    "Just make sure to add enough Markdown cells to explain what you decided to do and to report any observations you make, and generate maps to visualize your neighborhoods and how they cluster together."
   ]
  },
  {
   "cell_type": "code",
   "execution_count": null,
   "metadata": {},
   "outputs": [],
   "source": [
    "import folium\n",
    "from folium import plugins"
   ]
  },
  {
   "cell_type": "code",
   "execution_count": null,
   "metadata": {
    "button": false,
    "new_sheet": false,
    "run_control": {
     "read_only": false
    }
   },
   "outputs": [],
   "source": [
    "# Capture Toronto lat long for use in map\n",
    "g = geocoder.arcgis('Toronto, Ontario')\n",
    "lat_lng_coords = g.latlng\n",
    "latitude=lat_lng_coords[0]\n",
    "longitude=lat_lng_coords[1]"
   ]
  },
  {
   "cell_type": "code",
   "execution_count": null,
   "metadata": {},
   "outputs": [],
   "source": [
    "# Create folium map\n",
    "toronto_map = folium.Map(location = [latitude, longitude], zoom_start = 11)\n",
    "\n",
    "# Cluster\n",
    "nb = plugins.MarkerCluster().add_to(toronto_map)\n",
    "\n",
    "# Add locations to cluster\n",
    "for lat, lng, label, in zip(df.Latitude, df.Longitude, df.Borough):\n",
    "    folium.Marker(\n",
    "        location=[lat, lng],\n",
    "        icon=None,\n",
    "        popup=label,\n",
    "    ).add_to(nb)\n",
    "\n",
    "# Display map\n",
    "toronto_map"
   ]
  },
  {
   "cell_type": "markdown",
   "metadata": {},
   "source": [
    "<a id='item3'></a>\n",
    "# 3. Final Assigment"
   ]
  },
  {
   "cell_type": "markdown",
   "metadata": {},
   "source": [
    "## 3.1. Description of the problem and a discussion of the background."
   ]
  },
  {
   "cell_type": "markdown",
   "metadata": {},
   "source": [
    "## Title: Over and Under\n",
    "\n",
    "#### Problem:\n",
    "- High crime regions have less businesses by absolute numbers when compared to low crime regions.\n",
    "\n",
    "#### Hypothesis:\n",
    "- The low number of business in high crime regions is due to criminal code which makes certain markets illegal, this includes the sale of prohibited substances. The majority of narcotics charges will be concentrated in high crime regions.\n",
    "- If the sale or intent to sell of illegal substance is treated as supply, businesses through absolute numbers will have less disparity.\n",
    "- This will provide insight into any projects, policies or discussions surrounding the adverse affects of stricter control of some substances verses others. Specifically, alcohol verses marijuana.\n",
    "\n",
    "#### Data:\n",
    "- This will focus strictly on the city of Chicago, Illinois.\n",
    "- Data sources:\n",
    "    1. Chicago crimes, calendar year 2019. ref: https://data.cityofchicago.org/Public-Safety/Crimes-2001-to-Present/ijzp-q8t2\n",
    "    2. Foursquare API, current. ref: https://developer.foursquare.com/docs/\n",
    "    \n",
    "#### Assumptions:\n",
    "- Average amount of employees per legal substance business (drinking places, alcoholic beverages) business = 8.2 staff. ref:https://data.bls.gov/cew/apps/table_maker/v4/table_maker.htm#type=0&year=2019&qtr=4&own=5&ind=722410&supp=0\n",
    "- All narcotic charges with intent to sell charges are for the substance marijuana. This is because the data set doesn't differentiate between substances.\n",
    "\n",
    "#### Future development:\n",
    "- How would crime driven by illegal markets be affected if these markets were made legal?\n",
    "- Particular countries and states have made marijuana a legal substance for distribution, how has this affected crime and how has this affected consumption?"
   ]
  },
  {
   "cell_type": "code",
   "execution_count": null,
   "metadata": {},
   "outputs": [],
   "source": []
  }
 ],
 "metadata": {
  "kernelspec": {
   "display_name": "Python 3",
   "language": "python",
   "name": "python3"
  },
  "language_info": {
   "codemirror_mode": {
    "name": "ipython",
    "version": 3
   },
   "file_extension": ".py",
   "mimetype": "text/x-python",
   "name": "python",
   "nbconvert_exporter": "python",
   "pygments_lexer": "ipython3",
   "version": "3.7.6"
  }
 },
 "nbformat": 4,
 "nbformat_minor": 4
}
