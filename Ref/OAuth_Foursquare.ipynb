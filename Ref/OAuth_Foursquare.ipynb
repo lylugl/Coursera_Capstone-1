{
 "cells": [
  {
   "cell_type": "markdown",
   "metadata": {},
   "source": [
    "# OAuth Token Setup for Foursquare\n",
    "Issue: https://www.coursera.org/learn/applied-data-science-capstone/discussions/weeks/2/threads/-LJs_M9XQ-KybPzPVzPi6w  \n",
    "Ref: https://developer.foursquare.com/docs/places-api/authentication/#web-applications  \n",
    "  \n",
    "#### Notes:\n",
    "- First read the issue and ref linked above and recommended fix from Anthony Liu as it provides important context for the issue\n",
    "- Updating the URLs with Google's HTTPS:// didn't work for me and some other users, so I referred to Ching-hsiu's <a href=\"https://www.coursera.org/learn/applied-data-science-capstone/discussions/weeks/2/threads/-LJs_M9XQ-KybPzPVzPi6w/replies/r7OQ21qVSGmzkNtalahpqw/comments/AeyuvHppQU-srrx6aaFPPw\">post</a> used the HTTP:// url\n",
    "- Took about 5 minutes for it to start working, some users have had to wait longer. At first, I receive multiple error messages regarding foursquare: \"Cause of error: Callback uri is not valid for this consumer.\"\n",
    "- Also had to request a 2nd OAuth code as the first one returned an error: \"{\"error\":\"invalid_grant\"}\""
   ]
  },
  {
   "cell_type": "markdown",
   "metadata": {},
   "source": [
    "### Request OAuth code"
   ]
  },
  {
   "cell_type": "code",
   "execution_count": null,
   "metadata": {},
   "outputs": [],
   "source": [
    "# Import library to open links from notebook\n",
    "import webbrowser"
   ]
  },
  {
   "cell_type": "code",
   "execution_count": null,
   "metadata": {},
   "outputs": [],
   "source": [
    "# Enter redirect URL that you setup on your Foursquare dev account\n",
    "rdurl='http://www.google.com/'\n",
    "url='https://foursquare.com/oauth2/authenticate?client_id={}&response_type=code&redirect_uri={}'.format(CLIENT_ID, rdurl)\n",
    "\n",
    "webbrowser.open(url)"
   ]
  },
  {
   "cell_type": "markdown",
   "metadata": {},
   "source": [
    "### Use OAuth code to request access token"
   ]
  },
  {
   "cell_type": "code",
   "execution_count": null,
   "metadata": {},
   "outputs": [],
   "source": [
    "# Enter oauth code from redirect url provided from Foursquare below\n",
    "oauth=''\n",
    "\n",
    "# Call for token\n",
    "url='https://foursquare.com/oauth2/access_token?client_id={}&client_secret={}&grant_type=authorization_code&redirect_uri={}&code={}'.format(CLIENT_ID,CLIENT_SECRET, rdurl, oauth)\n",
    "webbrowser.open(url)"
   ]
  },
  {
   "cell_type": "markdown",
   "metadata": {},
   "source": [
    "### Replace the code in the first cell of Section 3 of the Jupyter Notebook (\"3. Search a Foursquare User\") with the code below, substituting YOUR_ACCESS_TOKEN_HERE with the access token:"
   ]
  },
  {
   "cell_type": "code",
   "execution_count": null,
   "metadata": {},
   "outputs": [],
   "source": [
    "user_id = '484542633' # user ID with most agree counts and complete profile\n",
    "ACCESS_TOKEN = 'YOUR_ACCESS_TOKEN_HERE'\n",
    "\n",
    "url = 'https://api.foursquare.com/v2/users/{}?client_id={}&client_secret={}&oauth_token={}&v={}'.format(user_id, CLIENT_ID, CLIENT_SECRET, ACCESS_TOKEN, VERSION) # define URL\n",
    "\n",
    "# send GET request\n",
    "results = requests.get(url).json()\n",
    "user_data = results['response']['user']\n",
    "\n",
    "# display features associated with user\n",
    "user_data.keys()"
   ]
  }
 ],
 "metadata": {
  "kernelspec": {
   "display_name": "Python 3",
   "language": "python",
   "name": "python3"
  },
  "language_info": {
   "codemirror_mode": {
    "name": "ipython",
    "version": 3
   },
   "file_extension": ".py",
   "mimetype": "text/x-python",
   "name": "python",
   "nbconvert_exporter": "python",
   "pygments_lexer": "ipython3",
   "version": "3.7.6"
  }
 },
 "nbformat": 4,
 "nbformat_minor": 4
}
